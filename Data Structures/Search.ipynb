{
 "cells": [
  {
   "cell_type": "code",
   "execution_count": 24,
   "metadata": {},
   "outputs": [],
   "source": [
    "class Search:\n",
    "    def __init__(self, arr):\n",
    "        self.arr = arr\n",
    "        \n",
    "    def binary(self, n): \n",
    "        def bin_recursive(arr, n):            \n",
    "            mid = len(arr) // 2\n",
    "            \n",
    "            if len(arr) < 2:\n",
    "                return print(True) if arr[0] == n else print(False)\n",
    "            \n",
    "            elif arr[mid] == n:\n",
    "                return print(True)\n",
    "            \n",
    "            elif arr[mid] < n:\n",
    "                bin_recursive(arr[mid+1:], n)\n",
    "            \n",
    "            elif arr[mid] > n:\n",
    "                bin_recursive(arr[:mid], n)\n",
    "                \n",
    "        bin_recursive(self.arr, n)"
   ]
  },
  {
   "cell_type": "code",
   "execution_count": 30,
   "metadata": {},
   "outputs": [
    {
     "name": "stdout",
     "output_type": "stream",
     "text": [
      "4 [1, 2, 3, 4, 5, 7, 8, 9]\n",
      "2 [1, 2, 3, 4]\n",
      "1 [1, 2]\n",
      "0 [1]\n",
      "False\n"
     ]
    }
   ],
   "source": [
    "a = [1, 2, 3, 4, 5, 7, 8, 9]\n",
    "arr = Search(a)\n",
    "\n",
    "arr.binary(-1)"
   ]
  },
  {
   "cell_type": "code",
   "execution_count": null,
   "metadata": {},
   "outputs": [],
   "source": []
  }
 ],
 "metadata": {
  "kernelspec": {
   "display_name": "Python 3",
   "language": "python",
   "name": "python3"
  },
  "language_info": {
   "codemirror_mode": {
    "name": "ipython",
    "version": 3
   },
   "file_extension": ".py",
   "mimetype": "text/x-python",
   "name": "python",
   "nbconvert_exporter": "python",
   "pygments_lexer": "ipython3",
   "version": "3.7.3"
  }
 },
 "nbformat": 4,
 "nbformat_minor": 2
}

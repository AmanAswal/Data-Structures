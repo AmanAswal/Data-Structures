{
 "cells": [
  {
   "cell_type": "code",
   "execution_count": 782,
   "metadata": {},
   "outputs": [],
   "source": [
    "class Node:\n",
    "    def __init__(self, val):\n",
    "        self.left = None\n",
    "        self.right = None\n",
    "        self.val = val\n",
    "\n",
    "class BinaryTree(object):\n",
    "\n",
    "    master = \"\"\n",
    "    \n",
    "    def __init__(self, val=None):\n",
    "        self.root = Node(val)\n",
    "# --------------------------------------------------------------------------------------------------------- #\n",
    "    \n",
    "    def insert(self, val):\n",
    "        \n",
    "        if not self.root:\n",
    "            self.root = Node(val)\n",
    "        else:\n",
    "            self._insert(val, self.root)    \n",
    "            \n",
    "    def _insert(self, val, cur):\n",
    "            if val > cur.val:\n",
    "                if cur.right == None:\n",
    "                    cur.right = Node(val)\n",
    "                else:\n",
    "                    self._insert(val, cur.right)\n",
    "            elif val < cur.val:\n",
    "                if cur.left == None:\n",
    "                    cur.left = Node(val)\n",
    "                else:\n",
    "                    self._insert(val, cur.left)\n",
    "            else:\n",
    "                print(\"Value already in the tree..!\")\n",
    "                \n",
    "# --------------------------------------------------------------------------------------------------------- #\n",
    "\n",
    "    def print_tree(self):\n",
    "        if self.root:\n",
    "            master = self._print_tree(self.root)\n",
    "            return master\n",
    "            \n",
    "    def _print_tree(self, cur):\n",
    "        if cur != None:\n",
    "            self.master += str(cur.val) + \"-\"\n",
    "            self._print_tree(cur.left)\n",
    "            self._print_tree(cur.right)\n",
    "        return (self.master[:-1]) #scraping the last dash (-)\n",
    "    \n",
    "# --------------------------------------------------------------------------------------------------------- #\n",
    "  \n",
    "    def search(self, val):\n",
    "        if self.root:\n",
    "            return self._search(val, self.root)\n",
    "        else:\n",
    "            return False        \n",
    "        \n",
    "    def _search(self, val, cur):\n",
    "            print(val, cur.val)\n",
    "            if cur.val == val:\n",
    "                return True\n",
    "            elif cur.val > val and cur.left:\n",
    "                return self._search(val, cur.left)\n",
    "            elif cur.val < val and cur.right:\n",
    "                return self._search(val, cur.right)\n",
    "            return False        \n",
    "# -------------------------------Attempt of searching in an unsorted tree---------------------------------- #\n",
    "\n",
    "    def search2(self, val):\n",
    "        if self.root:\n",
    "            return self._search2(self.root, val)\n",
    "        else:\n",
    "            return False\n",
    "        \n",
    "    def _search2(self, cur, val):\n",
    "        if cur:\n",
    "            print(cur, cur.val, val)\n",
    "            if cur.val == val:\n",
    "                return True\n",
    "            else:\n",
    "                master = self._search2(cur.left, val)\n",
    "                master = self._search2(cur.right, val)\n",
    "            return master"
   ]
  },
  {
   "cell_type": "code",
   "execution_count": 780,
   "metadata": {},
   "outputs": [],
   "source": [
    "tree = BinaryTree(1)\n",
    "tree.root.left = Node(2)\n",
    "tree.root.right = Node(3)\n",
    "tree.root.left.left = Node(4)\n",
    "tree.root.left.right = Node(5)"
   ]
  },
  {
   "cell_type": "code",
   "execution_count": 781,
   "metadata": {},
   "outputs": [
    {
     "data": {
      "text/plain": [
       "'1-2-4-5-3'"
      ]
     },
     "execution_count": 781,
     "metadata": {},
     "output_type": "execute_result"
    }
   ],
   "source": [
    "tree.print_tree()"
   ]
  },
  {
   "cell_type": "code",
   "execution_count": 765,
   "metadata": {},
   "outputs": [
    {
     "name": "stdout",
     "output_type": "stream",
     "text": [
      "<__main__.Node object at 0x000001F2F85E05F8> 1 2\n",
      "<__main__.Node object at 0x000001F2F846BBA8> 2 2\n",
      "<__main__.Node object at 0x000001F2F846B780> 3 2\n"
     ]
    }
   ],
   "source": [
    "tree.search2(2)"
   ]
  },
  {
   "cell_type": "code",
   "execution_count": 766,
   "metadata": {},
   "outputs": [],
   "source": [
    "bt = BinaryTree(6)\n",
    "bt.insert(9)\n",
    "bt.insert(7)\n",
    "bt.insert(8)\n",
    "bt.insert(1)\n",
    "bt.insert(2)\n",
    "bt.insert(5)"
   ]
  },
  {
   "cell_type": "code",
   "execution_count": 767,
   "metadata": {},
   "outputs": [
    {
     "data": {
      "text/plain": [
       "'6-1-2-5-9-7-8'"
      ]
     },
     "execution_count": 767,
     "metadata": {},
     "output_type": "execute_result"
    }
   ],
   "source": [
    "bt.print_tree()"
   ]
  },
  {
   "cell_type": "code",
   "execution_count": 768,
   "metadata": {},
   "outputs": [
    {
     "name": "stdout",
     "output_type": "stream",
     "text": [
      "9 6\n",
      "9 9\n"
     ]
    },
    {
     "data": {
      "text/plain": [
       "True"
      ]
     },
     "execution_count": 768,
     "metadata": {},
     "output_type": "execute_result"
    }
   ],
   "source": [
    "bt.search(9)"
   ]
  },
  {
   "cell_type": "code",
   "execution_count": 769,
   "metadata": {},
   "outputs": [
    {
     "name": "stdout",
     "output_type": "stream",
     "text": [
      "9 6\n",
      "9 9\n"
     ]
    },
    {
     "data": {
      "text/plain": [
       "True"
      ]
     },
     "execution_count": 769,
     "metadata": {},
     "output_type": "execute_result"
    }
   ],
   "source": [
    "bt.search(9)"
   ]
  },
  {
   "cell_type": "code",
   "execution_count": null,
   "metadata": {},
   "outputs": [],
   "source": []
  }
 ],
 "metadata": {
  "kernelspec": {
   "display_name": "Python 3",
   "language": "python",
   "name": "python3"
  },
  "language_info": {
   "codemirror_mode": {
    "name": "ipython",
    "version": 3
   },
   "file_extension": ".py",
   "mimetype": "text/x-python",
   "name": "python",
   "nbconvert_exporter": "python",
   "pygments_lexer": "ipython3",
   "version": "3.7.3"
  }
 },
 "nbformat": 4,
 "nbformat_minor": 2
}

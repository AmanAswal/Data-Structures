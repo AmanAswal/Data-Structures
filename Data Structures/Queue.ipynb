{
 "cells": [
  {
   "cell_type": "code",
   "execution_count": 32,
   "metadata": {},
   "outputs": [],
   "source": [
    "class Queue:\n",
    "    def __init__(self, head=None):\n",
    "        self.list = [head]\n",
    "        \n",
    "    def enqueue(self, new_element):\n",
    "        self.list.append(new_element)\n",
    "        \n",
    "    def peek(self):\n",
    "        return self.list[0]\n",
    "    \n",
    "    def dequeue(self):\n",
    "        return self.list.pop(0)"
   ]
  }
 ],
 "metadata": {
  "kernelspec": {
   "display_name": "Python 3",
   "language": "python",
   "name": "python3"
  },
  "language_info": {
   "codemirror_mode": {
    "name": "ipython",
    "version": 3
   },
   "file_extension": ".py",
   "mimetype": "text/x-python",
   "name": "python",
   "nbconvert_exporter": "python",
   "pygments_lexer": "ipython3",
   "version": "3.7.3"
  }
 },
 "nbformat": 4,
 "nbformat_minor": 2
}

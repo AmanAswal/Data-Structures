{
 "cells": [
  {
   "cell_type": "code",
   "execution_count": 46,
   "metadata": {},
   "outputs": [],
   "source": [
    "class Node:\n",
    "    def __init__(self, val):\n",
    "        self.left = None\n",
    "        self.right = None\n",
    "        self.val = val\n",
    "\n",
    "class BinaryTree(object):\n",
    "\n",
    "    master = \"\"\n",
    "    \n",
    "    def __init__(self, val=None):\n",
    "        self.root = Node(val)\n",
    "# --------------------------------------------------------------------------------------------------------- #\n",
    "    \n",
    "    def insert(self, val):\n",
    "        \n",
    "        if not self.root:\n",
    "            self.root = Node(val)\n",
    "        else:\n",
    "            self._insert(val, self.root)    \n",
    "            \n",
    "    def _insert(self, val, cur):\n",
    "            if val > cur.val:\n",
    "                if cur.right == None:\n",
    "                    cur.right = Node(val)\n",
    "                else:\n",
    "                    self._insert(val, cur.right)\n",
    "            elif val < cur.val:\n",
    "                if cur.left == None:\n",
    "                    cur.left = Node(val)\n",
    "                else:\n",
    "                    self._insert(val, cur.left)\n",
    "            else:\n",
    "                print(\"Value already in the tree..!\")\n",
    "                \n",
    "# --------------------------------------------------------------------------------------------------------- #\n",
    "\n",
    "    def print_tree(self):\n",
    "        if self.root:\n",
    "            master = self._print_tree(self.root)\n",
    "            return master\n",
    "            \n",
    "    def _print_tree(self, cur):\n",
    "        if cur != None:\n",
    "            self.master += str(cur.val) + \"-\"\n",
    "            self._print_tree(cur.left)\n",
    "            self._print_tree(cur.right)\n",
    "        return (self.master[:-1]) #scraping the last dash (-)\n",
    "    \n",
    "# --------------------------------------------------------------------------------------------------------- #\n",
    "  \n",
    "    def search(self, val):\n",
    "        if self.root:\n",
    "            return self._search(val, self.root)\n",
    "        else:\n",
    "            return False        \n",
    "        \n",
    "    def _search(self, val, cur):\n",
    "            print(val, cur.val)\n",
    "            if cur.val == val:\n",
    "                return True\n",
    "            elif cur.val > val and cur.left:\n",
    "                return self._search(val, cur.left)\n",
    "            elif cur.val < val and cur.right:\n",
    "                return self._search(val, cur.right)\n",
    "            return False        \n",
    "# -------------------------------Attempt of searching in an unsorted tree---------------------------------- #\n",
    "\n",
    "    def search2(self, val):\n",
    "        if self.root:\n",
    "            return self._search2(self.root, val)\n",
    "        else:\n",
    "            return False\n",
    "        \n",
    "    def _search2(self, cur, val):\n",
    "        if cur:\n",
    "            print(cur, cur.val, val)\n",
    "            if cur.val == val:\n",
    "                return True\n",
    "            else:\n",
    "                master = self._search2(cur.left, val)\n",
    "                master = self._search2(cur.right, val)\n",
    "            return master\n",
    "        \n",
    "# --------------------------------------------- Deepest Node -----------------------------------------------#\n",
    "\n",
    "    def deepest(self):\n",
    "        cur = self.root        \n",
    "        return self._deepest(cur, depth=-1)\n",
    "    \n",
    "    def _deepest(self, cur, depth):\n",
    "        depth += 1\n",
    "        \n",
    "        if not cur.left:\n",
    "            left =  [cur.val, depth]\n",
    "        else:\n",
    "            left = self._deepest(cur.left, depth)\n",
    "\n",
    "        if not cur.right:\n",
    "            right = [cur.val, depth]\n",
    "        else:\n",
    "            right = self._deepest(cur.right, depth)\n",
    "            \n",
    "        return left if left[1] >= right[1] else right"
   ]
  },
  {
   "cell_type": "code",
   "execution_count": 54,
   "metadata": {},
   "outputs": [],
   "source": [
    "bt = BinaryTree(6)\n",
    "bt.insert(9)\n",
    "bt.insert(7)\n",
    "bt.insert(8)\n",
    "bt.insert(1)\n",
    "bt.insert(2)\n",
    "bt.insert(5)\n",
    "bt.insert(20)\n",
    "bt.insert(30)\n",
    "bt.insert(40)\n",
    "bt.insert(25)\n",
    "bt.insert(26)\n",
    "bt.insert(27)"
   ]
  },
  {
   "cell_type": "code",
   "execution_count": 55,
   "metadata": {},
   "outputs": [
    {
     "data": {
      "text/plain": [
       "'6-1-2-5-9-7-8-20-30-25-26-27-40'"
      ]
     },
     "execution_count": 55,
     "metadata": {},
     "output_type": "execute_result"
    }
   ],
   "source": [
    "bt.print_tree()"
   ]
  },
  {
   "cell_type": "code",
   "execution_count": 56,
   "metadata": {},
   "outputs": [
    {
     "data": {
      "text/plain": [
       "[27, 6]"
      ]
     },
     "execution_count": 56,
     "metadata": {},
     "output_type": "execute_result"
    }
   ],
   "source": [
    "bt.deepest()"
   ]
  },
  {
   "cell_type": "code",
   "execution_count": null,
   "metadata": {},
   "outputs": [],
   "source": []
  }
 ],
 "metadata": {
  "kernelspec": {
   "display_name": "Python 3",
   "language": "python",
   "name": "python3"
  },
  "language_info": {
   "codemirror_mode": {
    "name": "ipython",
    "version": 3
   },
   "file_extension": ".py",
   "mimetype": "text/x-python",
   "name": "python",
   "nbconvert_exporter": "python",
   "pygments_lexer": "ipython3",
   "version": "3.7.3"
  }
 },
 "nbformat": 4,
 "nbformat_minor": 2
}

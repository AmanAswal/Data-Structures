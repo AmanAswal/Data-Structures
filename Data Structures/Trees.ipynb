{
 "cells": [
  {
   "cell_type": "code",
   "execution_count": 580,
   "metadata": {},
   "outputs": [],
   "source": [
    "class Node:\n",
    "    def __init__(self, val):\n",
    "        self.left = None\n",
    "        self.right = None\n",
    "        self.val = val\n",
    "\n",
    "class BinaryTree(object):\n",
    "\n",
    "    master = \"\"\n",
    "    \n",
    "    def __init__(self, val=None):\n",
    "        self.root = Node(val)\n",
    "# --------------------------------------------------------------------------------------------------------- #\n",
    "    \n",
    "    def insert(self, val):\n",
    "        \n",
    "        if not self.root:\n",
    "            self.root = Node(val)\n",
    "        else:\n",
    "            self._insert(val, self.root)    \n",
    "            \n",
    "    def _insert(self, val, cur):\n",
    "            if val > cur.val:\n",
    "                if cur.right == None:\n",
    "                    cur.right = Node(val)\n",
    "                else:\n",
    "                    self._insert(val, cur.right)\n",
    "            elif val < cur.val:\n",
    "                if cur.left == None:\n",
    "                    cur.left = Node(val)\n",
    "                else:\n",
    "                    self._insert(val, cur.left)\n",
    "            else:\n",
    "                print(\"Value already in the tree..!\")\n",
    "                \n",
    "# --------------------------------------------------------------------------------------------------------- #\n",
    "\n",
    "    def print_tree(self):\n",
    "        if self.root:\n",
    "            master = self._print_tree(self.root)\n",
    "            print(master)\n",
    "            \n",
    "    def _print_tree(self, cur):\n",
    "        if cur != None:\n",
    "            self._print_tree(cur.left)\n",
    "            self.master += str(cur.val) + \"-\"\n",
    "            self._print_tree(cur.right)\n",
    "        return (self.master[:-1]) #scraping the last dash (-)\n",
    "    \n",
    "# --------------------------------------------------------------------------------------------------------- #\n",
    "  \n",
    "    def search(self, val):\n",
    "        if self.root:\n",
    "            return self._search(val, self.root)\n",
    "        else:\n",
    "            return False        \n",
    "        \n",
    "    def _search(self, val, cur):\n",
    "            if cur.val == val:\n",
    "                return True\n",
    "            elif cur.val > val and cur.left:\n",
    "                return self._search(val, cur.left)\n",
    "            elif cur.val < val and cur.right:\n",
    "                return self._search(val, cur.right)\n",
    "            return False        "
   ]
  },
  {
   "cell_type": "code",
   "execution_count": 581,
   "metadata": {},
   "outputs": [],
   "source": [
    "bt = BinaryTree(6)\n",
    "bt.insert(9)\n",
    "bt.insert(7)\n",
    "bt.insert(8)\n",
    "bt.insert(1)\n",
    "bt.insert(2)\n",
    "bt.insert(5)"
   ]
  },
  {
   "cell_type": "code",
   "execution_count": 582,
   "metadata": {},
   "outputs": [
    {
     "name": "stdout",
     "output_type": "stream",
     "text": [
      "1-2-5-6-7-8-9\n"
     ]
    }
   ],
   "source": [
    "bt.print_tree()"
   ]
  },
  {
   "cell_type": "code",
   "execution_count": 583,
   "metadata": {},
   "outputs": [
    {
     "data": {
      "text/plain": [
       "False"
      ]
     },
     "execution_count": 583,
     "metadata": {},
     "output_type": "execute_result"
    }
   ],
   "source": [
    "bt.search(0)"
   ]
  },
  {
   "cell_type": "code",
   "execution_count": 584,
   "metadata": {},
   "outputs": [
    {
     "data": {
      "text/plain": [
       "True"
      ]
     },
     "execution_count": 584,
     "metadata": {},
     "output_type": "execute_result"
    }
   ],
   "source": [
    "bt.search(1)"
   ]
  },
  {
   "cell_type": "code",
   "execution_count": null,
   "metadata": {},
   "outputs": [],
   "source": []
  }
 ],
 "metadata": {
  "kernelspec": {
   "display_name": "Python 3",
   "language": "python",
   "name": "python3"
  },
  "language_info": {
   "codemirror_mode": {
    "name": "ipython",
    "version": 3
   },
   "file_extension": ".py",
   "mimetype": "text/x-python",
   "name": "python",
   "nbconvert_exporter": "python",
   "pygments_lexer": "ipython3",
   "version": "3.7.3"
  }
 },
 "nbformat": 4,
 "nbformat_minor": 2
}

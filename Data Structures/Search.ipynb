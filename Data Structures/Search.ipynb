{
 "cells": [
  {
   "cell_type": "code",
   "execution_count": 146,
   "metadata": {},
   "outputs": [],
   "source": [
    "class Search:\n",
    "    def __init__(self, arr):\n",
    "        self.arr = arr\n",
    "        \n",
    "    def binary_search(self, arr, n):\n",
    "        mid = len(arr) // 2\n",
    "\n",
    "        if len(arr) < 2:\n",
    "            return print(self.arr.index(n)) if arr[0] == n else print(-1)\n",
    "        \n",
    "        elif arr[mid] == n:\n",
    "            return print(self.arr.index(n))\n",
    "        \n",
    "        elif arr[mid] < n:\n",
    "            self.binary_search(arr[mid+1:], n)\n",
    "        \n",
    "        elif arr[mid] > n:\n",
    "            self.binary_search(arr[:mid], n)"
   ]
  },
  {
   "cell_type": "code",
   "execution_count": 150,
   "metadata": {},
   "outputs": [
    {
     "name": "stdout",
     "output_type": "stream",
     "text": [
      "-1\n",
      "5\n"
     ]
    }
   ],
   "source": [
    "a = [1, 2, 3, 4, 5, 6, 7, 8, 9]\n",
    "arr = Search(a)\n",
    "\n",
    "arr.binary_search(a, 0)\n",
    "arr.binary_search(a, 6)"
   ]
  },
  {
   "cell_type": "code",
   "execution_count": null,
   "metadata": {},
   "outputs": [],
   "source": []
  }
 ],
 "metadata": {
  "kernelspec": {
   "display_name": "Python 3",
   "language": "python",
   "name": "python3"
  },
  "language_info": {
   "codemirror_mode": {
    "name": "ipython",
    "version": 3
   },
   "file_extension": ".py",
   "mimetype": "text/x-python",
   "name": "python",
   "nbconvert_exporter": "python",
   "pygments_lexer": "ipython3",
   "version": "3.7.3"
  }
 },
 "nbformat": 4,
 "nbformat_minor": 2
}

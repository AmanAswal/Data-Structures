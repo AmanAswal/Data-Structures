{
 "cells": [
  {
   "cell_type": "code",
   "execution_count": 1,
   "metadata": {},
   "outputs": [],
   "source": [
    "class Element:\n",
    "    def __init__(self, value):\n",
    "        self.value = value\n",
    "        self.next = None\n",
    "\n",
    "class LinkedList:\n",
    "    def __init__(self, head=None):\n",
    "        self.head = head\n",
    "        \n",
    "    def printList(self):\n",
    "        current = self.head\n",
    "        while current:\n",
    "            print(\"Value : \",current.value)\n",
    "            current = current.next\n",
    "            \n",
    "    def append(self, new_element):\n",
    "        current = self.head\n",
    "        if self.head:\n",
    "            while current.next:\n",
    "                current = current.next\n",
    "                \n",
    "            current.next = new_element\n",
    "        \n",
    "        else:\n",
    "            self.head = new_element\n",
    "            \n",
    "    def get_position(self, pos):\n",
    "        \n",
    "        current = self.head\n",
    "        \n",
    "        if pos == 1:\n",
    "            return self.head\n",
    "        if pos < 1:\n",
    "            return None\n",
    "        while current.next:\n",
    "                try:\n",
    "                    for i in range(1, pos):\n",
    "                        current = current.next\n",
    "#                         print(i, pos, current)\n",
    "                    return current\n",
    "                except:\n",
    "                    return None\n",
    "\n",
    "        \n",
    "        \n",
    "    def insert(self, new_element, pos):\n",
    "        \n",
    "        if pos > 1:\n",
    "            current = self.get_position(pos-1)\n",
    "            new_element.next = current.next\n",
    "            current.next = new_element\n",
    "            \n",
    "        elif pos == 1:\n",
    "            self.insertHead(new_element)\n",
    "        \n",
    "        \n",
    "    def insertHead(self, new_element):\n",
    "        \n",
    "        new_element.next = self.head\n",
    "        self.head = new_element\n",
    "        \n",
    "            \n",
    "    def delete(self, val):\n",
    "        counter = 1\n",
    "        current = self.head\n",
    "        \n",
    "        if current.value == val:\n",
    "            self.head = current.next\n",
    "        \n",
    "        while current.next:\n",
    "            if current.next.value == val:\n",
    "                current.next = current.next.next\n",
    "                \n",
    "            current = current.next\n",
    "            \n",
    "    \n",
    "        \n",
    "        \n"
   ]
  },
  {
   "cell_type": "code",
   "execution_count": 2,
   "metadata": {},
   "outputs": [],
   "source": [
    "e1 = Element(1)\n",
    "e2 = Element(2)\n",
    "e3 = Element(3)\n",
    "e4 = Element(4)\n",
    "e5 = Element(5)"
   ]
  },
  {
   "cell_type": "code",
   "execution_count": 3,
   "metadata": {},
   "outputs": [],
   "source": [
    "ll = LinkedList(e1)\n",
    "ll.append(e3)\n",
    "ll.append(e2)\n"
   ]
  },
  {
   "cell_type": "code",
   "execution_count": 4,
   "metadata": {},
   "outputs": [],
   "source": [
    "ll.insert(e4, 3)"
   ]
  },
  {
   "cell_type": "code",
   "execution_count": 5,
   "metadata": {},
   "outputs": [],
   "source": [
    "ll.insert(e5, 1)"
   ]
  },
  {
   "cell_type": "code",
   "execution_count": 12,
   "metadata": {},
   "outputs": [
    {
     "name": "stdout",
     "output_type": "stream",
     "text": [
      "Value :  1\n",
      "Value :  4\n",
      "Value :  2\n"
     ]
    }
   ],
   "source": [
    "ll.printList()"
   ]
  },
  {
   "cell_type": "code",
   "execution_count": 11,
   "metadata": {},
   "outputs": [],
   "source": [
    "ll.delete(5)"
   ]
  }
 ],
 "metadata": {
  "kernelspec": {
   "display_name": "Python 3",
   "language": "python",
   "name": "python3"
  },
  "language_info": {
   "codemirror_mode": {
    "name": "ipython",
    "version": 3
   },
   "file_extension": ".py",
   "mimetype": "text/x-python",
   "name": "python",
   "nbconvert_exporter": "python",
   "pygments_lexer": "ipython3",
   "version": "3.7.3"
  }
 },
 "nbformat": 4,
 "nbformat_minor": 2
}

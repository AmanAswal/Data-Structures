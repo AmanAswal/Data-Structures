{
 "cells": [
  {
   "cell_type": "markdown",
   "metadata": {},
   "source": [
    "## Sort Class"
   ]
  },
  {
   "cell_type": "code",
   "execution_count": 10,
   "metadata": {},
   "outputs": [],
   "source": [
    "class Sort:\n",
    "    def __init__(self, list_):\n",
    "        self.list = list_\n",
    "        \n",
    "    def selectionSort(self):                          # Selection Sort\n",
    "        l = self.list\n",
    "        i = 0\n",
    "        while i != len(l) -1:\n",
    "            m = i + l[i:].index(min(l[i+1 :]))\n",
    "            if l[i] > l[m]:\n",
    "                l[i], l[m] = l[m], l[i]\n",
    "\n",
    "            i += 1\n",
    "            \n",
    "        return l\n",
    "    \n",
    "    \n",
    "    def bubbleSort(self):                             # Bubble Sort \n",
    "        l = self.list   \n",
    "        sorted = False\n",
    "        counter = 0\n",
    "        while not sorted:\n",
    "            for i in range(len(l)-1):\n",
    "                if l[i] > l[i+1]:\n",
    "                    l[i], l[i+1] = l[i+1], l[i]\n",
    "                    counter = 0\n",
    "                else:\n",
    "                    counter += 1\n",
    "                if counter >= len(l)-1:\n",
    "                    sorted = True\n",
    "                    break\n",
    "        \n",
    "        return l\n",
    "    \n",
    "    def insertionSort(self):\n",
    "\n",
    "        def insertionSortRecurse(i, l):\n",
    "            if i != 0 and l[i] < l[i-1]:\n",
    "                l[i], l[i-1] = l[i-1], l[i]\n",
    "                insertionSortRecurse(i-1, l)\n",
    "            return l\n",
    "        \n",
    "        \n",
    "        l = self.list\n",
    "        i = 0\n",
    "        while i != len(l)-1:\n",
    "            if l[i] > l[i+1]:\n",
    "                l[i], l[i+1] = l[i+1], l[i]\n",
    "                insertionSortRecurse(i, l)\n",
    "            i += 1\n",
    "    \n",
    "        return l"
   ]
  },
  {
   "cell_type": "code",
   "execution_count": 11,
   "metadata": {},
   "outputs": [
    {
     "data": {
      "text/plain": [
       "[-1, 0, 0, 1, 3, 3, 9, 9, 57]"
      ]
     },
     "execution_count": 11,
     "metadata": {},
     "output_type": "execute_result"
    }
   ],
   "source": [
    "l = [1, 3, 9, 57, 0, 0, -1, 3, 9]\n",
    "sort = Sort(l)\n",
    "sort.insertionSort()"
   ]
  },
  {
   "cell_type": "code",
   "execution_count": 106,
   "metadata": {},
   "outputs": [],
   "source": [
    "l = [4, 5, 9, 1, 2, 3]\n",
    "\n",
    "def recurse(l):\n",
    "    p_idx = len(l)-1\n",
    "    i, j = 0, p_idx-1\n",
    "    \n",
    "    if len(l) < 3:\n",
    "        print(\"2 left\", l)\n",
    "        if l[0] > l[-1]:\n",
    "            l[0], l[-1] = l[-1], l[0]\n",
    "        print(l)\n",
    "        print()\n",
    "        return l\n",
    "\n",
    "    print(i, j, l, l[p_idx])\n",
    "\n",
    "    while i < j:\n",
    "\n",
    "        if l[i] > l[j]:\n",
    "            l[i], l[j] = l[j], l[i]\n",
    "            j -= 1\n",
    "        i += 1\n",
    "\n",
    "        if i == j:\n",
    "            if l[i] > l[p_idx]:\n",
    "                l[i], l[p_idx] = l[p_idx], l[i]\n",
    "                p_idx = i\n",
    "\n",
    "    l_sub_list, r_sub_list = l[: p_idx], l[p_idx+1 :]\n",
    "    \n",
    "    sorted_l_sub_list = recurse(l_sub_list)\n",
    "    sorted_r_sub_list = recurse(r_sub_list)\n",
    "    l = sorted_l_sub_list + sorted_r_sub_list\n",
    "    \n",
    "    return l"
   ]
  }
 ],
 "metadata": {
  "kernelspec": {
   "display_name": "Python 3",
   "language": "python",
   "name": "python3"
  },
  "language_info": {
   "codemirror_mode": {
    "name": "ipython",
    "version": 3
   },
   "file_extension": ".py",
   "mimetype": "text/x-python",
   "name": "python",
   "nbconvert_exporter": "python",
   "pygments_lexer": "ipython3",
   "version": "3.7.3"
  }
 },
 "nbformat": 4,
 "nbformat_minor": 2
}

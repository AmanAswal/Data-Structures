{
 "cells": [
  {
   "cell_type": "code",
   "execution_count": 186,
   "metadata": {},
   "outputs": [],
   "source": [
    "class Node:\n",
    "    def __init__(self, value):\n",
    "        self.value = value\n",
    "        self.edge = []\n",
    "\n",
    "class Edge:\n",
    "    def __init__(self, value, node_from, node_to):\n",
    "        self.value = value\n",
    "        self.node_from = node_from\n",
    "        self.node_to = node_to\n",
    "        \n",
    "class Graph:\n",
    "    def __init__(self, nodes=[], edges=[]):\n",
    "        self.nodes = nodes\n",
    "        self.edges = edges\n",
    "        \n",
    "    def insert_node(self, node_value):\n",
    "        self.nodes.append(Node(node_value))\n",
    "        \n",
    "    def insert_edge(self, edge_value, node_from_value, node_to_value):\n",
    "        from_found = None\n",
    "        to_found = None\n",
    "        \n",
    "        for node in self.nodes:\n",
    "            if node.value == node_from_value:\n",
    "                from_found = node\n",
    "            if node.value == node_to_value:\n",
    "                to_found = node\n",
    "        \n",
    "        if not from_found:\n",
    "            from_found = Node(node_from_value)\n",
    "            self.nodes.append(from_found)\n",
    "        if not to_found:\n",
    "            to_found = Node(node_to_value)\n",
    "            self.nodes.append(to_found)\n",
    "            \n",
    "        new_edge = Edge(edge_value, from_found, to_found)\n",
    "        from_found.edge.append(new_edge) \n",
    "        to_found.edge.append(new_edge)\n",
    "        self.edges.append(new_edge)\n",
    "        \n",
    "        \n",
    "    def get_edge_list(self):\n",
    "        master = []\n",
    "        for edge in self.edges:\n",
    "            node_from = edge.node_from\n",
    "            node_to = edge.node_to\n",
    "            master.append((edge.value, node_from.value, node_to.value))\n",
    "        \n",
    "        return master\n",
    "    \n",
    "    \n",
    "    def get_adjacency_list(self):\n",
    "        master = [None] * 10000\n",
    "        max_node = 0\n",
    "        for edge in self.edges:\n",
    "            node_from = edge.node_from.value\n",
    "            node_to = edge.node_to.value\n",
    "            max_node = max(node_from, node_to, max_node)\n",
    "            \n",
    "            if master[node_from]:\n",
    "                master[node_from].append((node_to, edge.value))\n",
    "            else:\n",
    "                master[node_from] = ([(node_to, edge.value)])\n",
    "\n",
    "        return master[:max_node+1]\n",
    "    \n",
    "\n",
    "    def get_adjacency_matrix(self):\n",
    "        n=10\n",
    "        master = [0] * n\n",
    "        for i in range(n):\n",
    "            master[i] = [0] * n\n",
    "        max_node = 0\n",
    "        \n",
    "        for edge in self.edges:\n",
    "            node_from = edge.node_from.value\n",
    "            node_to   = edge.node_to.value\n",
    "            max_node = max(node_from, node_to, max_node)\n",
    "            master[node_from][node_to] = edge.value\n",
    "            \n",
    "        master = master[:max_node+1]\n",
    "        for i in range(len(master)):\n",
    "            master[i] = master[i][:max_node+1]\n",
    "            \n",
    "        return master"
   ]
  },
  {
   "cell_type": "code",
   "execution_count": 187,
   "metadata": {},
   "outputs": [],
   "source": [
    "graph = Graph()\n",
    "graph.insert_edge(100, 1, 2)\n",
    "graph.insert_edge(101, 1, 3)\n",
    "graph.insert_edge(102, 1, 4)\n",
    "graph.insert_edge(103, 3, 4)"
   ]
  },
  {
   "cell_type": "code",
   "execution_count": 188,
   "metadata": {},
   "outputs": [
    {
     "data": {
      "text/plain": [
       "[(100, 1, 2), (101, 1, 3), (102, 1, 4), (103, 3, 4)]"
      ]
     },
     "execution_count": 188,
     "metadata": {},
     "output_type": "execute_result"
    }
   ],
   "source": [
    "graph.get_edge_list()"
   ]
  },
  {
   "cell_type": "code",
   "execution_count": 189,
   "metadata": {},
   "outputs": [
    {
     "data": {
      "text/plain": [
       "[None, [(2, 100), (3, 101), (4, 102)], None, [(4, 103)], None]"
      ]
     },
     "execution_count": 189,
     "metadata": {},
     "output_type": "execute_result"
    }
   ],
   "source": [
    "graph.get_adjacency_list()"
   ]
  },
  {
   "cell_type": "code",
   "execution_count": 190,
   "metadata": {},
   "outputs": [
    {
     "data": {
      "text/plain": [
       "[[0, 0, 0, 0, 0],\n",
       " [0, 0, 100, 101, 102],\n",
       " [0, 0, 0, 0, 0],\n",
       " [0, 0, 0, 0, 103],\n",
       " [0, 0, 0, 0, 0]]"
      ]
     },
     "execution_count": 190,
     "metadata": {},
     "output_type": "execute_result"
    }
   ],
   "source": [
    "graph.get_adjacency_matrix()"
   ]
  }
 ],
 "metadata": {
  "kernelspec": {
   "display_name": "Python 3",
   "language": "python",
   "name": "python3"
  },
  "language_info": {
   "codemirror_mode": {
    "name": "ipython",
    "version": 3
   },
   "file_extension": ".py",
   "mimetype": "text/x-python",
   "name": "python",
   "nbconvert_exporter": "python",
   "pygments_lexer": "ipython3",
   "version": "3.7.3"
  }
 },
 "nbformat": 4,
 "nbformat_minor": 2
}

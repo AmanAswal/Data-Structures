{
 "cells": [
  {
   "cell_type": "code",
   "execution_count": 58,
   "metadata": {},
   "outputs": [],
   "source": [
    "def quick(arr):\n",
    "    print(\"recursing\", arr, \" <--arr in\")\n",
    "    pivot = -1\n",
    "    i, j = 0, len(arr)-2\n",
    "    \n",
    "    if len(arr) < 3:\n",
    "        if arr[0] > arr[-1]:\n",
    "            arr[-1], arr[0] = arr[0], arr[-1]\n",
    "        print (arr,  \" <--arr out\")\n",
    "        return arr\n",
    "    \n",
    "    while i < j:\n",
    "        print(arr, \"|| i:\",i, \"|| j:\",  j, \"|| arr[i]:\", arr[i],\"|| arr[j]:\", arr[j] )\n",
    "        if arr[i] > arr[j]:\n",
    "            if arr[j] < arr[pivot]:\n",
    "                print('swapping')\n",
    "                arr[i], arr[j] = arr[j], arr[i]\n",
    "                i += 1\n",
    "                j -= 1\n",
    "            else:\n",
    "                 i += 1\n",
    "        \n",
    "        elif arr[i] <= arr[j]:\n",
    "            j -= 1\n",
    "        print(arr, \"<--arr out\", i, j)\n",
    "        print()\n",
    "    \n",
    "    if arr[j] > arr[pivot]:\n",
    "        arr[pivot], arr[j] = arr[j], arr[pivot]\n",
    "    else:\n",
    "        arr[pivot], arr[j+1] = arr[j+1], arr[pivot]\n",
    "        \n",
    "    print(arr, \"<-- arr out of recursive\", i)\n",
    "    quick(arr[:i])\n",
    "    quick(arr[i+1:])\n",
    "\n",
    "    \n",
    "        \n",
    "    return arr"
   ]
  },
  {
   "cell_type": "code",
   "execution_count": 59,
   "metadata": {},
   "outputs": [
    {
     "name": "stdout",
     "output_type": "stream",
     "text": [
      "recursing [5, 4, 3, 2, 1, 0]  <--arr in\n",
      "[5, 4, 3, 2, 1, 0] || i: 0 || j: 4 || arr[i]: 5 || arr[j]: 1\n",
      "[5, 4, 3, 2, 1, 0] <--arr out 1 4\n",
      "\n",
      "[5, 4, 3, 2, 1, 0] || i: 1 || j: 4 || arr[i]: 4 || arr[j]: 1\n",
      "[5, 4, 3, 2, 1, 0] <--arr out 2 4\n",
      "\n",
      "[5, 4, 3, 2, 1, 0] || i: 2 || j: 4 || arr[i]: 3 || arr[j]: 1\n",
      "[5, 4, 3, 2, 1, 0] <--arr out 3 4\n",
      "\n",
      "[5, 4, 3, 2, 1, 0] || i: 3 || j: 4 || arr[i]: 2 || arr[j]: 1\n",
      "[5, 4, 3, 2, 1, 0] <--arr out 4 4\n",
      "\n",
      "[5, 4, 3, 2, 0, 1] <-- arr out of recursive 4\n",
      "recursing [5, 4, 3, 2]  <--arr in\n",
      "[5, 4, 3, 2] || i: 0 || j: 2 || arr[i]: 5 || arr[j]: 3\n",
      "[5, 4, 3, 2] <--arr out 1 2\n",
      "\n",
      "[5, 4, 3, 2] || i: 1 || j: 2 || arr[i]: 4 || arr[j]: 3\n",
      "[5, 4, 3, 2] <--arr out 2 2\n",
      "\n",
      "[5, 4, 2, 3] <-- arr out of recursive 2\n",
      "recursing [5, 4]  <--arr in\n",
      "[4, 5]  <--arr out\n",
      "recursing [3]  <--arr in\n",
      "[3]  <--arr out\n",
      "recursing [1]  <--arr in\n",
      "[1]  <--arr out\n"
     ]
    },
    {
     "data": {
      "text/plain": [
       "[5, 4, 3, 2, 0, 1]"
      ]
     },
     "execution_count": 59,
     "metadata": {},
     "output_type": "execute_result"
    }
   ],
   "source": [
    "l = [1, 5, 3, 7, 0, 2]\n",
    "a = [5, 4, 3, 2, 1, 0]\n",
    "quick(a)"
   ]
  },
  {
   "cell_type": "code",
   "execution_count": null,
   "metadata": {},
   "outputs": [],
   "source": [
    "def quick(arr):\n",
    "    \n",
    "    p = -1\n",
    "    i, j = 0, len(arr)-2\n",
    "    \n",
    "    if len(arr) < 3:\n",
    "        if arr[0] > arr[-1]:\n",
    "            arr[-1], arr[0] = arr[0], arr[-1]\n",
    "    \n",
    "    else:\n",
    "        while :\n",
    "            if arr[i] > arr[j]:\n",
    "                arr[j], arr[i] = arr[i], arr[j]\n",
    "                i += 1\n",
    "                j -= 1\n",
    "            elif arr[i] == arr[j]:\n",
    "                j -= 1\n",
    "            "
   ]
  }
 ],
 "metadata": {
  "kernelspec": {
   "display_name": "Python 3",
   "language": "python",
   "name": "python3"
  },
  "language_info": {
   "codemirror_mode": {
    "name": "ipython",
    "version": 3
   },
   "file_extension": ".py",
   "mimetype": "text/x-python",
   "name": "python",
   "nbconvert_exporter": "python",
   "pygments_lexer": "ipython3",
   "version": "3.7.3"
  }
 },
 "nbformat": 4,
 "nbformat_minor": 2
}

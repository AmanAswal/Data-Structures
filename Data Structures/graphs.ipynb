{
 "cells": [
  {
   "cell_type": "code",
   "execution_count": 27,
   "metadata": {},
   "outputs": [],
   "source": [
    "class Node:\n",
    "    def __init__(self, value):\n",
    "        self.value = value\n",
    "        self.edge = []\n",
    "\n",
    "class Edge:\n",
    "    def __init__(self, value, node_from, node_to):\n",
    "        self.value = value\n",
    "        self.node_from = node_from\n",
    "        self.node_to = node_to\n",
    "        \n",
    "class Graph:\n",
    "    def __init__(self, nodes=[], edges=[]):\n",
    "        self.nodes = nodes\n",
    "        self.edges = edges\n",
    "        \n",
    "    def insert_node(self, node_value):\n",
    "        self.nodes.append(Node(node_value))\n",
    "        \n",
    "    def insert_edge(self, edge_value, node_from_val, node_to_val):\n",
    "        from_found = None\n",
    "        to_found = None\n",
    "        \n",
    "        for node in self.nodes:\n",
    "            if node.value == node_from_val:\n",
    "                from_found = node\n",
    "            if node.value == node_to_val:\n",
    "                to_found = node\n",
    "        \n",
    "        if not from_found:\n",
    "            from_found = Node(node_from_val)\n",
    "            self.nodes.append(from_found)\n",
    "        if not to_found:\n",
    "            to_found = Node(node_to_val)\n",
    "            self.nodes.append(to_found)\n",
    "            \n",
    "        new_edge = Edge(edge_value, from_found, to_found)\n",
    "        from_found.edge.append(new_edge) \n",
    "        to_found.edge.append(new_edge)\n",
    "        self.edges.append(new_edge)\n",
    "        \n",
    "        \n",
    "    def get_edge_list(self):\n",
    "        master = []\n",
    "        for edge in self.edges:\n",
    "            node_from = edge.node_from\n",
    "            node_to = edge.node_to\n",
    "            master.append([edge.value, node_from.value, node_to.value])\n",
    "        \n",
    "        return master"
   ]
  },
  {
   "cell_type": "code",
   "execution_count": 28,
   "metadata": {},
   "outputs": [],
   "source": [
    "graph = Graph()"
   ]
  },
  {
   "cell_type": "code",
   "execution_count": 29,
   "metadata": {},
   "outputs": [],
   "source": [
    "graph.insert_node(5)\n",
    "graph.insert_node(4)\n",
    "graph.insert_edge(20, 4, 5)"
   ]
  },
  {
   "cell_type": "code",
   "execution_count": 30,
   "metadata": {},
   "outputs": [],
   "source": [
    "graph.insert_edge(42, 6, 7)"
   ]
  },
  {
   "cell_type": "code",
   "execution_count": 31,
   "metadata": {},
   "outputs": [],
   "source": [
    "graph.insert_edge(24, 4, 6)"
   ]
  },
  {
   "cell_type": "code",
   "execution_count": 32,
   "metadata": {},
   "outputs": [],
   "source": [
    "graph.insert_edge(12, 4, 3)"
   ]
  },
  {
   "cell_type": "code",
   "execution_count": 33,
   "metadata": {},
   "outputs": [],
   "source": [
    "graph.insert_edge(6, 2, 3)"
   ]
  },
  {
   "cell_type": "code",
   "execution_count": 34,
   "metadata": {},
   "outputs": [
    {
     "data": {
      "text/plain": [
       "[[20, 4, 5], [42, 6, 7], [24, 4, 6], [12, 4, 3], [6, 2, 3]]"
      ]
     },
     "execution_count": 34,
     "metadata": {},
     "output_type": "execute_result"
    }
   ],
   "source": [
    "graph.get_edge_list()"
   ]
  },
  {
   "cell_type": "code",
   "execution_count": null,
   "metadata": {},
   "outputs": [],
   "source": []
  }
 ],
 "metadata": {
  "kernelspec": {
   "display_name": "Python 3",
   "language": "python",
   "name": "python3"
  },
  "language_info": {
   "codemirror_mode": {
    "name": "ipython",
    "version": 3
   },
   "file_extension": ".py",
   "mimetype": "text/x-python",
   "name": "python",
   "nbconvert_exporter": "python",
   "pygments_lexer": "ipython3",
   "version": "3.7.3"
  }
 },
 "nbformat": 4,
 "nbformat_minor": 2
}
